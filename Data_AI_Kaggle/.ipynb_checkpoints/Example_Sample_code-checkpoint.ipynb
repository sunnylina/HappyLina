{
 "cells": [
  {
   "cell_type": "code",
   "execution_count": 1,
   "id": "566db05f",
   "metadata": {},
   "outputs": [],
   "source": [
    "import numpy as np\n",
    "import pandas as pd"
   ]
  },
  {
   "cell_type": "code",
   "execution_count": 2,
   "id": "bb1efe67",
   "metadata": {},
   "outputs": [],
   "source": [
    "# train_x 는 학습 데이터, train_y 는 목적변수, test_x 는 테스트 데이터\n",
    "train = pd.read_csv('./kagglebook-main/input/sample-data/train.csv')\n",
    "train_x = train.drop(['target'], axis = 1)\n",
    "train_y = train['target']\n",
    "test_x = pd.read_csv('./kagglebook-main/input/sample-data/test.csv')"
   ]
  },
  {
   "cell_type": "code",
   "execution_count": 3,
   "id": "0703850d",
   "metadata": {},
   "outputs": [],
   "source": [
    "#학습데이터를 학습데이터와 검증데이터로 분할\n",
    "from sklearn.model_selection import KFold\n",
    "# KFold 교차 검증에 의한 분할 하나를 사용하여 학습 데이터와 검증 데이터로 구분\n",
    "kf = KFold(n_splits = 4, shuffle = True, random_state = 71)\n",
    "tr_idx, va_idx = list(kf.split(train_x))[0]\n",
    "tr_x, va_x = train_x.iloc[tr_idx],train_x.iloc[va_idx]\n",
    "tr_y, va_y = train_y.iloc[tr_idx],train_y.iloc[va_idx]"
   ]
  },
  {
   "cell_type": "code",
   "execution_count": null,
   "id": "aea24d24",
   "metadata": {},
   "outputs": [],
   "source": []
  }
 ],
 "metadata": {
  "kernelspec": {
   "display_name": "Python 3 (ipykernel)",
   "language": "python",
   "name": "python3"
  },
  "language_info": {
   "codemirror_mode": {
    "name": "ipython",
    "version": 3
   },
   "file_extension": ".py",
   "mimetype": "text/x-python",
   "name": "python",
   "nbconvert_exporter": "python",
   "pygments_lexer": "ipython3",
   "version": "3.9.12"
  }
 },
 "nbformat": 4,
 "nbformat_minor": 5
}
